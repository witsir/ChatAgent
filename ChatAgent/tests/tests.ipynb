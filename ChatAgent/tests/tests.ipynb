{
 "cells": [
  {
   "cell_type": "code",
   "execution_count": 2,
   "metadata": {
    "collapsed": true,
    "pycharm": {
     "name": "#%%\n"
    }
   },
   "outputs": [],
   "source": [
    "from ChatAgent import ConversationAgent\n",
    "from ChatAgent import ChatgptAgent\n",
    "\n",
    "chat_agent =ChatgptAgent()"
   ]
  },
  {
   "cell_type": "code",
   "execution_count": null,
   "outputs": [],
   "source": [
    "conversation = ConversationAgent(chat_agent.session)"
   ],
   "metadata": {
    "collapsed": false,
    "pycharm": {
     "name": "#%%\n"
    }
   }
  },
  {
   "cell_type": "code",
   "execution_count": 11,
   "outputs": [
    {
     "name": "stderr",
     "output_type": "stream",
     "text": [
      "2023-06-23 15:37:56,415 - ### - INFO - success in loading conversation 0013c5af-6ac2-43b9-9d10-64db195e3094\n"
     ]
    }
   ],
   "source": [
    "conversation = ConversationAgent(chat_agent.session, \"0013c5af-6ac2-43b9-9d10-64db195e3094\")"
   ],
   "metadata": {
    "collapsed": false,
    "pycharm": {
     "name": "#%%\n"
    }
   }
  },
  {
   "cell_type": "code",
   "execution_count": 12,
   "outputs": [
    {
     "name": "stderr",
     "output_type": "stream",
     "text": [
      "2023-06-23 15:39:02,551 - ### - INFO - success in getting  data\n",
      "{\"message\": {\"id\": \"...\n"
     ]
    },
    {
     "name": "stdout",
     "output_type": "stream",
     "text": [
      "当然！这是另一个笑话：\n",
      "\n",
      "有一天，一只乌龟走进一家银行，走到柜台前，对着柜员说：“我要开一个账户。”\n",
      "柜员疑惑地看着乌龟，说：“好的，请填写这张表格，然后提供您的身份证明和资金来源证明。”\n",
      "乌龟拿起表格，费了好大劲才慢慢地填写完毕。然后，它掏出一片叶子放在柜台上说：“这是我的身份证明。”\n",
      "柜员目瞪口呆地看着乌龟手里的叶子，不知所措地说：“对不起，先生，这不是合法的身份证明。”\n",
      "乌龟无奈地摇摇头，叹了口气说：“唉，我知道这样，但是我真的是一只乌龟啊！我没有身份证明，也没有资金来源证明。”\n",
      "柜员听后笑了起来，说：“好吧，既然你是一只诚实的乌龟，那就让我帮你开一个'乌龟个人账户'吧！”\n"
     ]
    }
   ],
   "source": [
    "print(chat_agent.ask_chat(\n",
    "\"\"\"\n",
    "再说一个笑话\n",
    "\"\"\",conversation))"
   ],
   "metadata": {
    "collapsed": false,
    "pycharm": {
     "name": "#%%\n"
    }
   }
  },
  {
   "cell_type": "code",
   "execution_count": 13,
   "outputs": [
    {
     "name": "stderr",
     "output_type": "stream",
     "text": [
      "2023-06-23 15:39:32,346 - ### - INFO - success in saving chatgpt cookies.json\n"
     ]
    }
   ],
   "source": [
    "chat_agent.quit()"
   ],
   "metadata": {
    "collapsed": false,
    "pycharm": {
     "name": "#%%\n"
    }
   }
  },
  {
   "cell_type": "code",
   "execution_count": null,
   "outputs": [],
   "source": [],
   "metadata": {
    "collapsed": false,
    "pycharm": {
     "name": "#%%\n"
    }
   }
  },
  {
   "cell_type": "code",
   "execution_count": null,
   "outputs": [],
   "source": [],
   "metadata": {
    "collapsed": false,
    "pycharm": {
     "name": "#%%\n"
    }
   }
  },
  {
   "cell_type": "code",
   "execution_count": null,
   "outputs": [],
   "source": [],
   "metadata": {
    "collapsed": false,
    "pycharm": {
     "name": "#%%\n"
    }
   }
  },
  {
   "cell_type": "code",
   "execution_count": null,
   "outputs": [],
   "source": [],
   "metadata": {
    "collapsed": false,
    "pycharm": {
     "name": "#%%\n"
    }
   }
  }
 ],
 "metadata": {
  "kernelspec": {
   "display_name": "Python 3",
   "language": "python",
   "name": "python3"
  },
  "language_info": {
   "codemirror_mode": {
    "name": "ipython",
    "version": 2
   },
   "file_extension": ".py",
   "mimetype": "text/x-python",
   "name": "python",
   "nbconvert_exporter": "python",
   "pygments_lexer": "ipython2",
   "version": "2.7.6"
  }
 },
 "nbformat": 4,
 "nbformat_minor": 0
}